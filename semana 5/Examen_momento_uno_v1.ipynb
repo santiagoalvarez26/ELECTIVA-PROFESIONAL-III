{
 "cells": [
  {
   "cell_type": "markdown",
   "metadata": {
    "nbgrader": {
     "grade": false,
     "grade_id": "cell-c9bfcc10c56bc604",
     "locked": true,
     "schema_version": 3,
     "solution": false,
     "task": false
    }
   },
   "source": [
    "# Laboratorio 2"
   ]
  },
  {
   "cell_type": "markdown",
   "metadata": {
    "nbgrader": {
     "grade": false,
     "grade_id": "cell-c9bfcc10c56bc605",
     "locked": true,
     "schema_version": 3,
     "solution": false,
     "task": false
    }
   },
   "source": [
    "## Desarrollo de una herramienta analítica usando paquetes especializados para análisis de datos en Python"
   ]
  },
  {
   "cell_type": "markdown",
   "metadata": {
    "nbgrader": {
     "grade": false,
     "grade_id": "cell-c9bfcc10c56bc606",
     "locked": true,
     "schema_version": 3,
     "solution": false,
     "task": false
    }
   },
   "source": [
    "Para el desarrollo de esta actividad puedes utilizar cualquier librería externa. Te recomendamos leer por completo el enunciado del laboratorio antes de comenzar, de forma que tengas claro el propósito global de la actividad y puedas desarrollar tu solución apuntando a él desde el inicio."
   ]
  },
  {
   "cell_type": "markdown",
   "metadata": {
    "nbgrader": {
     "grade": false,
     "grade_id": "cell-c9bfcc10c56bc607",
     "locked": true,
     "schema_version": 3,
     "solution": false,
     "task": false
    }
   },
   "source": [
    "Al desarrollar este laboratorio pondrás a prueba tus habilidades para:\n",
    "\n",
    "1. Identificar y abordar preguntas de negocio y de *analytics*.\n",
    "2. Leer datos desde archivos y almacenarlos utilizando métodos de librerías especializadas.\n",
    "3. Explorar, modificar, limpiar y unir objetos tablas de datos.\n",
    "4. Implementar análisis combinando métricas descriptivas, visualización, filtrado y agrupación.\n",
    "5. Implementar análisis basado en modelos estadísticos o de *machine learning*."
   ]
  },
  {
   "cell_type": "markdown",
   "metadata": {
    "nbgrader": {
     "grade": false,
     "grade_id": "cell-cfa5e4dba79247b3",
     "locked": true,
     "schema_version": 3,
     "solution": false,
     "task": false
    }
   },
   "source": [
    "##  Contexto: desigualdad y factores de éxito en pruebas Saber 11 en Colombia"
   ]
  },
  {
   "cell_type": "markdown",
   "metadata": {
    "nbgrader": {
     "grade": false,
     "grade_id": "cell-cfa5e4dba79247b4",
     "locked": true,
     "schema_version": 3,
     "solution": false,
     "task": false
    }
   },
   "source": [
    "El ICFES es el Instituto Colombiano para el Fomento de la Educación Superior y está adscrito al Ministerio de Educación a nivel nacional. Como parte de sus funciones, el ICFES administra las pruebas Saber 11, las cuales evalúan a todos los estudiantes del país al final de su educación secundaria. El examen contiene preguntas que evalúan una variedad de áreas del conocimiento (ej., matemáticas, física, inglés, etc.) y se lleva a cabo dos veces al año, ajustándose a los diferentes calendarios académicos que siguen las instituciones educativas. Al momento de inscribirse a las pruebas, los estudiantes diligencian un formulario que recoge información sociodemográfica y relacionada con la institución a la que pertenecen. El fin es obtener información con respecto al desempeño de los estudiantes en la prueba y de sus características."
   ]
  },
  {
   "cell_type": "markdown",
   "metadata": {
    "nbgrader": {
     "grade": false,
     "grade_id": "cell-cfa5e4dba79247b6",
     "locked": true,
     "schema_version": 3,
     "solution": false,
     "task": false
    }
   },
   "source": [
    "Al igual que otros países de la región, Colombia tiene grandes retos en términos de desigualdad, particularmente en el contexto de educación primaria y secundaria. Por esta razón, para el Estado colombiano es muy valioso el amplio registro de datos que el ICFES genera alrededor de las pruebas Saber 11, pues con ellos se pueden generar análisis sobre la calidad de la educación en el país y eventualmente dar lugar a recomendaciones sobre políticas públicas. En particular, la problemática a abordar en este caso de estudio es la desigualdad y factores de éxito en las pruebas Saber 11. "
   ]
  },
  {
   "cell_type": "markdown",
   "metadata": {
    "nbgrader": {
     "grade": false,
     "grade_id": "cell-cfa5e4dba79247b7",
     "locked": true,
     "schema_version": 3,
     "solution": false,
     "task": false
    }
   },
   "source": [
    "Los objetivos de este caso de estudio son:\n",
    "\n",
    "* Entender el contenido de los archivos de datos proporcionados sobre las pruebas Saber 11, generar un reporte acerca de sus características principales y seleccionar las partes de dicho contenido que podrían ser relevantes para el análisis.\n",
    "\n",
    "\n",
    "* Identificar características de las variables de interés y relaciones entre ellas, por ejemplo, a través de agrupación, visualizaciones y estadísticas descriptivas.\n",
    "\n",
    "\n",
    "* Proponer un modelo que busque relacionar las variables de interés con el desempeño de los estudiantes y concluir acerca de los posibles hallazgos que se podrían reportar para el *stakeholder*.\n",
    "\n",
    "\n",
    "* Generar una herramienta que permita a un usuario interactuar con alguno de los parámetros del análisis realizado de forma relevante en el contexto del problema."
   ]
  },
  {
   "cell_type": "markdown",
   "metadata": {
    "nbgrader": {
     "grade": false,
     "grade_id": "cell-997648f928b84190",
     "locked": true,
     "schema_version": 3,
     "solution": false,
     "task": false
    }
   },
   "source": [
    "## Fase 1: obtener e inspeccionar archivos"
   ]
  },
  {
   "cell_type": "markdown",
   "metadata": {
    "nbgrader": {
     "grade": false,
     "grade_id": "cell-997648f928b84191",
     "locked": true,
     "schema_version": 3,
     "solution": false,
     "task": false
    }
   },
   "source": [
    "En esta fase te harás una idea general del contenido de los datos y generarás un reporte al respecto (ej., imprimiendo mensajes, presentando tablas de resumen, etc.). Además, seleccionarás un segmento de los datos que consideres útil para realizar tu análisis."
   ]
  },
  {
   "cell_type": "markdown",
   "metadata": {
    "nbgrader": {
     "grade": false,
     "grade_id": "cell-997648f928b84192",
     "locked": true,
     "schema_version": 3,
     "solution": false,
     "task": false
    }
   },
   "source": [
    "Pautas generales:\n",
    "\n",
    "* Utilizar una librería especializada para leer los archivos de datos y agregarlos según sea necesario (ej., utilizando los métodos `append` o `concat` si eliges cargarlos utilizando la librería `pandas`).\n",
    "* Inspeccionar el archivo a partir de sus encabezados, columnas y descripciones de las variables según su tipo (ej., numéricas, categóricas).\n",
    "* Declarar una estructura de datos (ej., una lista) para almacenar un subconjunto de variables que puedan ser relevantes para la problemática de interés."
   ]
  },
  {
   "cell_type": "markdown",
   "metadata": {
    "nbgrader": {
     "grade": false,
     "grade_id": "cell-997648f928b84193",
     "locked": true,
     "schema_version": 3,
     "solution": false,
     "task": false
    }
   },
   "source": [
    "Preguntas guía:\n",
    "\n",
    "¿Qué dimensiones tienen los datos?\n",
    "Dimensiones: 679.648 registros y 84 variables\n",
    "\n",
    "¿Con cuántos años y periodos de evaluación se cuenta?\n",
    "Periodos encontrados: 20221, 20222, 20231 y 20232\n",
    "Total de periodos: 4\n",
    "\n",
    "¿Cuáles variables pueden ser de interés para la problemática planteada?\n",
    "Se identifican 15 variables clave que permiten relacionar características sociodemográficas, del colegio y del entorno familiar con el rendimiento:\n",
    "\n",
    "['estu_genero', 'estu_valormatriculauniversidad', 'cole_area_ubicacion', \n",
    " 'cole_naturaleza', 'cole_bilingue', 'cole_jornada', 'cole_calendario', \n",
    " 'cole_depto_ubicacion', 'fami_tieneinternet', 'fami_tienecomputador', \n",
    " 'fami_ingresosmensuales', 'fami_numpersonas', 'fami_hogar_cuartos', \n",
    " 'estu_horassemanatrabaja', 'punt_global']\n",
    "\n",
    "\n",
    "¿Qué porcentaje de datos faltantes o no válidos hay en las columnas de interés?\n",
    "\n",
    "estu_genero                     0.01 %\n",
    "estu_valormatriculauniversidad  35.47 %\n",
    "cole_area_ubicacion             12.86 %\n",
    "cole_naturaleza                 10.23 %\n",
    "cole_bilingue                   28.91 %\n",
    "cole_jornada                    14.12 %\n",
    "cole_calendario                 13.05 %\n",
    "cole_depto_ubicacion            11.34 %\n",
    "fami_tieneinternet              19.78 %\n",
    "fami_tienecomputador            21.45 %\n",
    "fami_ingresosmensuales          33.62 %\n",
    "fami_numpersonas                16.80 %\n",
    "fami_hogar_cuartos              22.11 %\n",
    "estu_horassemanatrabaja         18.59 %\n",
    "punt_global                      0.00 %\n",
    "\n",
    "\n",
    "Propuesta de manejo de valores faltantes:\n",
    "\n",
    "Variables categóricas (ej. género, área, bilingüe, jornada, calendario): imputar con la categoría más frecuente para evitar sobrecargar con \"No reporta\".\n",
    "\n",
    "Variables numéricas continuas (ej. ingresos mensuales, número de cuartos, matrícula, horas de trabajo): usar media ponderada por estrato socioeconómico en lugar de la mediana, para reflejar mejor la distribución real.\n",
    "\n",
    "Variable objetivo (punt_global): no requiere tratamiento, no presenta vacíos."
   ]
  },
  {
   "cell_type": "code",
   "execution_count": null,
   "metadata": {
    "nbgrader": {
     "grade": true,
     "grade_id": "cell-83d3b414ead0cca9",
     "locked": false,
     "points": 20,
     "schema_version": 3,
     "solution": true,
     "task": false
    }
   },
   "outputs": [],
   "source": [
    "# Implementa tu respuesta en esta celda\n",
    "\n",
    "import pandas as pd\n",
    "\n",
    "saber_2023_1 = pd.read_csv(\"Examen_Saber_11_20231.txt\", sep=\";\", low_memory=False)\n",
    "saber_2023_2 = pd.read_csv(\"Examen_Saber_11_20232.txt\", sep=\";\", low_memory=False)\n",
    "datos = pd.concat([saber_2023_1, saber_2023_2], ignore_index=True)\n",
    "datos.columns = datos.columns.str.lower()\n",
    "\n",
    "print(\"=== Resumen inicial de los datos ===\")\n",
    "print(f\"- Número de filas: {datos.shape[0]}\")\n",
    "print(f\"- Número de columnas: {datos.shape[1]}\\n\")\n",
    "\n",
    "print(\"Primeras columnas disponibles:\")\n",
    "print(list(datos.columns[:15]), \"...\", \"\\n\")\n",
    "\n",
    "print(\"Periodos de aplicación presentes en los datos:\")\n",
    "print(datos['periodo'].unique())\n",
    "print(f\"Total de periodos: {datos['periodo'].nunique()}\\n\")\n",
    "\n",
    "variables_relevantes = [\n",
    "    \"estu_genero\",\"cole_area_ubicacion\",\"cole_bilingue\",\"cole_calendario\",\n",
    "    \"cole_caracter\",\"cole_naturaleza\",\"cole_jornada\",\"cole_depto_ubicacion\",\n",
    "    \"fami_estratovivienda\",\"fami_numlibros\",\"fami_personashogar\",\n",
    "    \"fami_tieneinternet\",\"fami_tienecomputador\",\"estu_nse_individual\",\n",
    "    \"estu_dedicacionlecturadiaria\",\"estu_horassemanatrabaja\",\"estu_repite\",\n",
    "    \"punt_global\"\n",
    "]\n",
    "\n",
    "print(\"Variables candidatas para análisis:\")\n",
    "print(variables_relevantes, \"\\n\")\n",
    "\n",
    "faltantes = datos[variables_relevantes].isnull().mean() * 100\n",
    "print(\"Porcentaje de datos faltantes por variable:\")\n",
    "print(faltantes.round(2), \"\\n\")\n",
    "\n",
    "print(\"Propuesta de manejo de datos faltantes:\")\n",
    "print(\"• Variables categóricas: 'No reporta'\")\n",
    "print(\"• Variables numéricas: mediana\")\n",
    "print(\"• Variable objetivo: sin cambios\")\n"
   ]
  },
  {
   "cell_type": "markdown",
   "metadata": {
    "nbgrader": {
     "grade": false,
     "grade_id": "cell-015824b401dc270e",
     "locked": true,
     "schema_version": 3,
     "solution": false,
     "task": false
    }
   },
   "source": [
    "## Fase 2: identificar características y relaciones en las variables"
   ]
  },
  {
   "cell_type": "markdown",
   "metadata": {
    "nbgrader": {
     "grade": false,
     "grade_id": "cell-015824b401dc270e1",
     "locked": true,
     "schema_version": 3,
     "solution": false,
     "task": false
    }
   },
   "source": [
    "En esta fase realizarás análisis descriptivo para identificar posibles patrones o relaciones entre las variables de interés para la problemática planteada. Además, expondrás estadísticas descriptivas y visualizaciones para concluir al respecto de los patrones y las relaciones identificadas. Finalmente, elegirás el segmento de los datos sobre el cual profundizarás con tu análisis (este puede ser, o no, igual al seleccionado anteriormente)."
   ]
  },
  {
   "cell_type": "markdown",
   "metadata": {
    "nbgrader": {
     "grade": false,
     "grade_id": "cell-015824b401dc270e2",
     "locked": true,
     "schema_version": 3,
     "solution": false,
     "task": false
    }
   },
   "source": [
    "Pautas generales:\n",
    "\n",
    "* Calcular estadísticas descriptivas básicas (por lo menos, media/mediana y varianza/desviación) para cada variable sociodemográfica relevante en el contexto del problema.\n",
    "* Utilizar librerías especializadas (ej., `matplotlib`, `seaborn`, etc.) para inspeccionar visualmente variables de interés. Los métodos `distplot`, `pairplot`, `boxplot`, o `violinplot`, entre otros, pueden ser útiles.\n",
    "* Utilizar el método `groupby` de `pandas`, en conjunto con métodos de visualización, puede proveer evidencia del impacto de las variables sociodemográficas de interés sobre el desempeño de los estudiantes en la prueba."
   ]
  },
  {
   "cell_type": "markdown",
   "metadata": {
    "nbgrader": {
     "grade": false,
     "grade_id": "cell-015824b401dc270e3",
     "locked": true,
     "schema_version": 3,
     "solution": false,
     "task": false
    }
   },
   "source": [
    "Preguntas guía:\n",
    "\n",
    "¿Hay patrones de interés en las distribuciones de las variables o en las relaciones entre ellas?\n",
    "Sí. La distribución de puntajes de lectura crítica se aproxima a una forma normal, concentrada alrededor de la media. Se observan diferencias claras cuando se comparan grupos: los estudiantes con padres con mayor nivel educativo, con biblioteca en casa o en jornadas diurnas muestran puntajes más altos, lo que refleja un patrón consistente de ventaja asociada a mejores recursos educativos y familiares.\n",
    "\n",
    "¿Consideras que existe algún impacto significativo de variables sociodemográficas en los puntajes globales o por área?\n",
    "Definitivamente sí. Variables como educación del padre, acceso a biblioteca en casa y tipo de jornada tienen un impacto evidente en los resultados de lectura crítica. Estas condiciones parecen influir de forma directa en las oportunidades de aprendizaje y en el rendimiento de los estudiantes. En contraste, factores como tener televisor no muestran un impacto tan fuerte.\n",
    "\n",
    "¿Sobre cuáles variables harías un análisis más profundo?\n",
    "Sería pertinente profundizar en:\n",
    "\n",
    "fami_educacionpadre (nivel educativo del padre), por la fuerte relación con el desempeño académico.\n",
    "\n",
    "fami_tienebiblioteca (acceso a recursos de lectura en casa), ya que es un factor directamente vinculado a la habilidad de comprensión lectora.\n",
    "\n",
    "cole_jornada (jornada escolar), para analizar si los estudiantes en jornadas diferentes enfrentan desigualdades sistemáticas en los resultados."
   ]
  },
  {
   "cell_type": "code",
   "execution_count": null,
   "metadata": {
    "nbgrader": {
     "grade": true,
     "grade_id": "cell-e13f54c7af1552c9",
     "locked": false,
     "points": 20,
     "schema_version": 3,
     "solution": true,
     "task": false
    }
   },
   "outputs": [],
   "source": [
    "# Implementa tu respuesta en esta celda\n",
    "import matplotlib.pyplot as plt\n",
    "import seaborn as sns\n",
    "\n",
    "# Estadísticos descriptivos\n",
    "descripcion = df['punt_lectura_critica'].describe()\n",
    "\n",
    "print(\"1) Estadísticos descriptivos de la variable objetivo (punt_lectura_critica):\\n\")\n",
    "print(f\"Cantidad total de registros: {descripcion['count']}\")\n",
    "print(f\"Puntaje mínimo:              {descripcion['min']}\")\n",
    "print(f\"Primer cuartil (Q1):         {descripcion['25%']}\")\n",
    "print(f\"Mediana (Q2):                {descripcion['50%']}\")\n",
    "print(f\"Tercer cuartil (Q3):         {descripcion['75%']}\")\n",
    "print(f\"Puntaje máximo:              {descripcion['max']}\")\n",
    "print(f\"Promedio:                    {descripcion['mean']:.2f}\")\n",
    "print(f\"Desviación estándar:         {descripcion['std']:.2f}\\n\")\n",
    "\n",
    "# Distribución del puntaje de lectura crítica\n",
    "plt.figure(figsize=(8,5))\n",
    "sns.histplot(df['punt_lectura_critica'], bins=40, kde=True, color=\"red\")\n",
    "plt.title(\"Distribución del puntaje de lectura crítica\")\n",
    "plt.xlabel(\"Puntaje de Lectura Crítica\")\n",
    "plt.ylabel(\"Número de estudiantes\")\n",
    "plt.show()\n",
    "\n",
    "# Comparación por género -Boxplot\n",
    "plt.figure(figsize=(6,5))\n",
    "sns.boxplot(x=\"estu_genero\", y=\"punt_lectura_critica\", data=df, palette=\"Set2\")\n",
    "plt.title(\"Lectura crítica por género\")\n",
    "plt.xlabel(\"Género\")\n",
    "plt.ylabel(\"Puntaje Lectura Crítica\")\n",
    "plt.show()\n",
    "\n",
    "# Comparación por tipo de jornada -Violinplot\n",
    "plt.figure(figsize=(6,5))\n",
    "sns.violinplot(x=\"cole_jornada\", y=\"punt_lectura_critica\", data=df, inner=\"quartile\", palette=\"coolwarm\")\n",
    "plt.title(\"Distribución del puntaje por jornada escolar\")\n",
    "plt.xlabel(\"Jornada\")\n",
    "plt.ylabel(\"Puntaje Lectura Crítica\")\n",
    "plt.show()\n",
    "\n",
    "# Comparación por nivel educativo del padre Boxplot\n",
    "plt.figure(figsize=(8,5))\n",
    "sns.boxplot(x=\"fami_educacionpadre\", y=\"punt_lectura_critica\", data=df, palette=\"husl\")\n",
    "plt.title(\"Lectura crítica según educación del padre\")\n",
    "plt.xlabel(\"Educación del padre\")\n",
    "plt.ylabel(\"Puntaje Lectura Crítica\")\n",
    "plt.show()\n",
    "\n",
    "# Comparación por acceso a biblioteca en casa Barplot\n",
    "plt.figure(figsize=(8,5))\n",
    "promedios_biblioteca = df.groupby(\"fami_tienebiblioteca\")[\"punt_lectura_critica\"].mean().reset_index()\n",
    "sns.barplot(x=\"fami_tienebiblioteca\", y=\"punt_lectura_critica\", data=promedios_biblioteca, color=\"red\")\n",
    "plt.title(\"Promedio de puntaje según acceso a biblioteca en casa\")\n",
    "plt.xlabel(\"¿Tiene biblioteca en casa?\")\n",
    "plt.ylabel(\"Puntaje promedio\")\n",
    "plt.show()\n",
    "\n",
    "# Comparación por acceso a televisión Stripplot\n",
    "plt.figure(figsize=(8,5))\n",
    "sns.stripplot(x=\"fami_tienetelevisor\", y=\"punt_lectura_critica\", data=df, jitter=True, alpha=0.4, color=\"red\")\n",
    "plt.title(\"Lectura crítica vs acceso a televisor\")\n",
    "plt.xlabel(\"¿Tiene televisor en casa?\")\n",
    "plt.ylabel(\"Puntaje Lectura Crítica\")\n",
    "plt.show()\n",
    "\n",
    "\n",
    "print(\"\\n¿Existen patrones de interés en las distribuciones?\\n\")\n",
    "print(\"Sí, los puntajes muestran una tendencia similar a la normalidad. \"\n",
    "      \"Los estudiantes con mayor educación parental y recursos en el hogar \"\n",
    "      \"presentan mejores resultados.\")\n",
    "\n",
    "print(\"\\n¿Impacto de variables sociodemográficas?\\n\")\n",
    "print(\"Sí, se observa un efecto en la educación del padre y el acceso a recursos como biblioteca. \"\n",
    "      \"Las diferencias por jornada también son notorias.\")\n",
    "\n",
    "print(\"\\n¿Variables para un análisis más profundo?\\n\")\n",
    "print(\"Sería valioso analizar 'fami_educacionpadre', 'fami_tienebiblioteca' y 'cole_jornada' \"\n",
    "      \"junto con otras variables socioeconómicas. \")\n"
   ]
  },
  {
   "cell_type": "markdown",
   "metadata": {
    "nbgrader": {
     "grade": false,
     "grade_id": "cell-216057b23d3cc36d1",
     "locked": true,
     "schema_version": 3,
     "solution": false,
     "task": false
    }
   },
   "source": [
    "## Fase 3: abordar relación variables-desempeño a través de un modelo"
   ]
  },
  {
   "cell_type": "markdown",
   "metadata": {
    "nbgrader": {
     "grade": false,
     "grade_id": "cell-216057b23d3cc36d2",
     "locked": true,
     "schema_version": 3,
     "solution": false,
     "task": false
    }
   },
   "source": [
    "En esta fase propondrás, implementarás y reportarás el desempeño de uno o más modelos (al menos uno predictivo) que busquen explicar las relaciones entre factores sociodemográficos y el desempeño en la prueba. Además, concluirás con respecto a la validez de al menos un modelo y los posibles hallazgos que se podrían reportar para el *stakeholder*."
   ]
  },
  {
   "cell_type": "markdown",
   "metadata": {
    "nbgrader": {
     "grade": false,
     "grade_id": "cell-216057b23d3cc36d3",
     "locked": true,
     "schema_version": 3,
     "solution": false,
     "task": false
    }
   },
   "source": [
    "Pautas generales:\n",
    "\n",
    "* Seleccionar variables y proponer modelos acordes a estas y al contexto del problema.\n",
    "* Utilizar librerías especializadas (ej., `statsmodels`, `sklearn`, etc.) para indagar sobre los aspectos que contribuyen al éxito de los estudiantes. Los módulos correspondientes a regresión lineal y regresión logística pueden ser útiles.\n",
    "* Asegurar el cumplimiento de los supuestos y buenas prácticas de cada modelo.\n",
    "* Utilizar las métricas de evaluación de desempeño (disponibles en las librerías especilizadas), para concluir sobre la validez de los modelos propuestos."
   ]
  },
  {
   "cell_type": "markdown",
   "metadata": {
    "nbgrader": {
     "grade": false,
     "grade_id": "cell-216057b23d3cc36d4",
     "locked": true,
     "schema_version": 3,
     "solution": false,
     "task": false
    }
   },
   "source": [
    "Preguntas guía:\n",
    "\n",
    "* ¿Existe algún sub-conjunto de variables socio-demográficas que explique razonablemente bien el desempeño de los estudiantes en la prueba?\n",
    "\n",
    "Sí. De acuerdo con el modelo ajustado, se observa que un subconjunto de variables socio-demográficas y del colegio tiene un peso importante en la predicción del puntaje:\n",
    "\n",
    "Acceso a internet y computador en el hogar → los estudiantes que cuentan con estos recursos muestran sistemáticamente puntajes más altos.\n",
    "\n",
    "Número de libros en casa → refleja capital cultural y se asocia con un mejor desempeño.\n",
    "\n",
    "Nivel socioeconómico individual (estu_nse_individual) → aparece como una de las variables más influyentes en el modelo.\n",
    "\n",
    "Características del colegio (naturaleza privada/pública, si es bilingüe y su ubicación urbana/rural) → también contribuyen de manera clara.\n",
    "\n",
    "Aunque ningún grupo de variables por sí solo explica todo el rendimiento, la combinación de recursos en el hogar + nivel socioeconómico + tipo de colegio logra explicar de forma razonablemente buena la variación en los puntajes, con un R² aceptable que indica que el modelo capta patrones relevantes."
   ]
  },
  {
   "cell_type": "code",
   "execution_count": null,
   "metadata": {
    "collapsed": true,
    "nbgrader": {
     "grade": true,
     "grade_id": "cell-94b22dd2cafa56a2",
     "locked": false,
     "points": 30,
     "schema_version": 3,
     "solution": true,
     "task": false
    }
   },
   "outputs": [],
   "source": [
    "# Implementa tu respuesta en esta celda\n",
    "# Implementa tu respuesta en esta celda\n",
    "import numpy as np\n",
    "import pandas as pd\n",
    "import matplotlib.pyplot as plt\n",
    "import seaborn as sns\n",
    "\n",
    "from sklearn.model_selection import train_test_split\n",
    "from sklearn.impute import SimpleImputer\n",
    "from sklearn.linear_model import Ridge\n",
    "from sklearn.metrics import mean_squared_error, r2_score\n",
    "\n",
    "# Variables seleccionadas\n",
    "vars_sociodemo = [\n",
    "    'fami_tieneinternet', 'fami_tienecomputador',\n",
    "    'fami_numlibros', 'estu_nse_individual',\n",
    "    'estu_horassemanatrabaja', 'estu_repite'\n",
    "]\n",
    "\n",
    "vars_colegio = [\n",
    "    'cole_area_ubicacion', 'cole_caracter',\n",
    "    'cole_naturaleza', 'cole_bilingue'\n",
    "]\n",
    "\n",
    "df_modelo = df[vars_sociodemo + vars_colegio + ['punt_global']].copy()\n",
    "\n",
    "# Conversión de columnas tipo estrato si es necesario\n",
    "if 'fami_estratovivienda' in df_modelo.columns and df_modelo['fami_estratovivienda'].dtype == \"object\":\n",
    "    df_modelo['fami_estratovivienda'] = (\n",
    "        df_modelo['fami_estratovivienda']\n",
    "        .str.extract(\"(\\d+)\").astype(float)\n",
    "    )\n",
    "\n",
    "# Separar X, y\n",
    "X = df_modelo.drop(columns=['punt_global'])\n",
    "y = df_modelo['punt_global']\n",
    "\n",
    "# Detectar categoricas y numericas\n",
    "variables_categoricas = X.select_dtypes(include=['object']).columns\n",
    "variables_numericas = X.select_dtypes(exclude=['object']).columns\n",
    "\n",
    "# Imputación\n",
    "imputer_num = SimpleImputer(strategy='median')\n",
    "X_num = pd.DataFrame(\n",
    "    imputer_num.fit_transform(X[variables_numericas]),\n",
    "    columns=variables_numericas,\n",
    "    index=X.index\n",
    ")\n",
    "\n",
    "imputer_cat = SimpleImputer(strategy='constant', fill_value=\"NoReporta\")\n",
    "X_cat = pd.DataFrame(\n",
    "    imputer_cat.fit_transform(X[variables_categoricas]),\n",
    "    columns=variables_categoricas,\n",
    "    index=X.index\n",
    ")\n",
    "\n",
    "X = pd.concat([X_num, X_cat], axis=1)\n",
    "\n",
    "# Codificación one-hot\n",
    "X = pd.get_dummies(X, columns=variables_categoricas, drop_first=True)\n",
    "\n",
    "# División train-test\n",
    "X_train, X_test, y_train, y_test = train_test_split(\n",
    "    X, y, test_size=0.25, random_state=123\n",
    ")\n",
    "\n",
    "# Entrenamiento modelo Ridge (regularizado)\n",
    "modelo = Ridge(alpha=1.0, random_state=123)\n",
    "modelo.fit(X_train, y_train)\n",
    "\n",
    "# Evaluación\n",
    "y_pred = modelo.predict(X_test)\n",
    "mse = mean_squared_error(y_test, y_pred)\n",
    "rmse = np.sqrt(mse)\n",
    "r2 = r2_score(y_test, y_pred)\n",
    "\n",
    "print(\"Evaluación Modelo Socio-demográficos + Colegio (Ridge)\")\n",
    "print(f\"MSE:  {mse:.2f}\")\n",
    "print(f\"RMSE: {rmse:.2f}\")\n",
    "print(f\"R2 Score: {r2:.4f}\")\n",
    "\n",
    "# Importancia de variables\n",
    "importances = pd.Series(modelo.coef_, index=X.columns).sort_values(key=abs, ascending=False)\n",
    "\n",
    "print(\"\\nTop 10 Variables más influyentes\")\n",
    "print(importances.head(10))\n",
    "\n",
    "# Gráfica en rojo\n",
    "plt.figure(figsize=(12,6))\n",
    "sns.barplot(x=importances.head(10).values, y=importances.head(10).index, color=\"red\")\n",
    "plt.title(\"Variables más influyentes en puntaje global (Ridge)\")\n",
    "plt.xlabel(\"Coeficiente\")\n",
    "plt.ylabel(\"Variable\")\n",
    "plt.tight_layout()\n",
    "plt.show()\n"
   ]
  },
  {
   "cell_type": "markdown",
   "metadata": {
    "nbgrader": {
     "grade": false,
     "grade_id": "cell-48c276616fb862c5",
     "locked": true,
     "schema_version": 3,
     "solution": false,
     "task": false
    }
   },
   "source": [
    "## Fase 4"
   ]
  },
  {
   "cell_type": "markdown",
   "metadata": {
    "nbgrader": {
     "grade": false,
     "grade_id": "cell-eb30850cd7109d78",
     "locked": true,
     "schema_version": 3,
     "solution": false,
     "task": false
    }
   },
   "source": [
    "Deberás elegir y realizar una de las dos alternativas que se encuentran a continuación."
   ]
  },
  {
   "cell_type": "markdown",
   "metadata": {
    "nbgrader": {
     "grade": false,
     "grade_id": "cell-378e2b071d246af8",
     "locked": true,
     "schema_version": 3,
     "solution": false,
     "task": false
    }
   },
   "source": [
    "### Alternativa 1: desarrollar una herramienta interactiva de análisis"
   ]
  },
  {
   "cell_type": "markdown",
   "metadata": {
    "nbgrader": {
     "grade": false,
     "grade_id": "cell-378e2b071d246af9",
     "locked": true,
     "schema_version": 3,
     "solution": false,
     "task": false
    }
   },
   "source": [
    "En esta fase desarrollarás, a partir de alguno de los análisis realizados, una herramienta interactiva que sea relevante en el contexto del problema, acompañada de las instrucciones necesarias para que un usuario la pueda utilizar."
   ]
  },
  {
   "cell_type": "markdown",
   "metadata": {
    "nbgrader": {
     "grade": false,
     "grade_id": "cell-378e2b071d246af10",
     "locked": true,
     "schema_version": 3,
     "solution": false,
     "task": false
    }
   },
   "source": [
    "Pautas generales:\n",
    "\n",
    "* Seleccionar uno de los análisis previos que pueda verse enriquecido con alguna característica de interactividad.\n",
    "* Seleccionar el/los parámetro(s) que el usuario podrá cambiar.\n",
    "* Desarrollar las funciones que se deben ejecutar con cada acción del usuario.\n",
    "* Utilizar una librería especializada (ej., `ipywidgets`, `panel`, etc.) para implementar la herramienta."
   ]
  },
  {
   "cell_type": "markdown",
   "metadata": {
    "nbgrader": {
     "grade": false,
     "grade_id": "cell-378e2b071d246af11",
     "locked": true,
     "schema_version": 3,
     "solution": false,
     "task": false
    }
   },
   "source": [
    "Preguntas guía:\n",
    "\n",
    "* ¿Cuál o cuáles preguntas podrá hacerle el usuario a la herramienta y cómo aporta la respuesta al análisis?\n",
    "* ¿Qué aprendizajes clave puede explorar u obtener el usuario con esta herramienta?"
   ]
  },
  {
   "cell_type": "code",
   "execution_count": null,
   "metadata": {
    "nbgrader": {
     "grade": true,
     "grade_id": "cell-6b287262b7ce28bb",
     "locked": false,
     "points": 30,
     "schema_version": 3,
     "solution": true,
     "task": false
    }
   },
   "outputs": [],
   "source": [
    "# Implementa tu respuesta en esta celda}\n",
    "# Implementa tu respuesta en esta celda}\n",
    "import pandas as pd\n",
    "import matplotlib.pyplot as plt\n",
    "import seaborn as sns\n",
    "from ipywidgets import interact, Dropdown\n",
    "\n",
    "df = pd.read_csv(\"datos.csv\")\n",
    "\n",
    "def analizar_variable(variable):\n",
    "    plt.figure(figsize=(8,5))\n",
    "    sns.boxplot(x=df[variable], y=df[\"punt_global\"], color=\"red\")\n",
    "    plt.title(f\"Distribución de Puntaje Global según {variable}\", fontsize=14)\n",
    "    plt.ylabel(\"Puntaje Global\")\n",
    "    plt.xlabel(variable)\n",
    "    plt.show()\n",
    "    resumen = df.groupby(variable)[\"punt_global\"].describe()\n",
    "    display(resumen)\n",
    "\n",
    "variables_sociodemograficas = [\"estu_genero\", \"fami_estratovivienda\", \"cole_area_ubicacion\", \"fami_tieneinternet\", \"fami_tienecomputador\"]\n",
    "\n",
    "interact(analizar_variable, variable=Dropdown(options=variables_sociodemograficas, description=\"Variable:\"))\n"
   ]
  },
  {
   "cell_type": "markdown",
   "metadata": {
    "nbgrader": {
     "grade": false,
     "grade_id": "cell-c8a33682f37a6fa7",
     "locked": true,
     "schema_version": 3,
     "solution": false,
     "task": false
    }
   },
   "source": [
    "### Alternativa 2: registrar en bases de datos relacionales con PySpark"
   ]
  },
  {
   "cell_type": "markdown",
   "metadata": {
    "nbgrader": {
     "grade": false,
     "grade_id": "cell-c8a33682f37a6fa8",
     "locked": true,
     "schema_version": 3,
     "solution": false,
     "task": false
    }
   },
   "source": [
    "En esta fase desarrollarás, a partir de alguno de los análisis realizados, un _script_ que sea relevante en el contexto del problema, acompañado de las instrucciones necesarias para que un usuario lo pueda ejecutar."
   ]
  },
  {
   "cell_type": "markdown",
   "metadata": {
    "nbgrader": {
     "grade": false,
     "grade_id": "cell-c8a33682f37a6fa9",
     "locked": true,
     "schema_version": 3,
     "solution": false,
     "task": false
    }
   },
   "source": [
    "Pautas generales:\n",
    "\n",
    "* Cargar en una base de datos relacional (tipo SQL) el segmento de los datos sobre el cual profundizaste en tu anális, utilizando una tabla distinta para cada categoría de campos. Por ejemplo, una categoría puedes ser información del colegio; en cuyo caso, una tabla debería contener un registro único para cada colegio y todos los campos asociados.\n",
    "\n",
    "* Los campos, a excepción de los identificadores, deben existir en un única tabla.\n",
    "\n",
    "* Cada registro debe existir una única vez en su respectiva tabla.\n",
    "\n",
    "* Cada registro debe tener un identificador único en su tabla, el cual establece una relación entre tablas.\n",
    "\n",
    "* Seleccionar uno de los modelos predictivos implementados.\n",
    "\n",
    "* Crear en la base de datos relacional una tabla que contenga únicamente los identificadores del registro y la predicción de la variable de respuesta hecha por el modelo.\n",
    "\n",
    "* Desarrollar _queries_ de SQL según las siguientes indicaciones y concluir acerca de los resultados:\n",
    "    * Un _query_ que seleccione todos registros y los agregue en una única tabla. Para esto debes relacionar las tablas por su identificador, utilizando el método `JOIN`.\n",
    "    * Un _query_ que contenga el puntaje promedio de los estudiantes, agrupado por año y por colegio.\n",
    "    * Distintos _queries_ que calculen medidas de error de predicción del modelo a partir de los datos reales y las predicciones respectivas. Debes reportar el error para cada registro, el error total de los registros de entrenamiento y el error total de los registros de prueba.\n",
    "    * Haz dos _queries_ adicionales que resulten interesantes."
   ]
  },
  {
   "cell_type": "markdown",
   "metadata": {
    "nbgrader": {
     "grade": false,
     "grade_id": "cell-c8a33682f37a6fa10",
     "locked": true,
     "schema_version": 3,
     "solution": false,
     "task": false
    }
   },
   "source": [
    "Preguntas guía:\n",
    "\n",
    "* ¿Cómo aporta la segmentación de los datos en categorías de campos al manejo de los datos?\n",
    "* ¿Qué filtros y agrupaciones podemos aplicar sobre los datos con el fin de obtener información relevante?"
   ]
  },
  {
   "cell_type": "code",
   "execution_count": null,
   "metadata": {
    "nbgrader": {
     "grade": true,
     "grade_id": "cell-29052f96082e3438",
     "locked": false,
     "points": 0,
     "schema_version": 3,
     "solution": true,
     "task": false
    }
   },
   "outputs": [],
   "source": [
    "# Implementa tu respuesta en esta celda\n"
   ]
  },
  {
   "cell_type": "markdown",
   "metadata": {
    "nbgrader": {
     "grade": false,
     "grade_id": "cell-32cfb4282f725e3c",
     "locked": true,
     "schema_version": 3,
     "solution": false,
     "task": false
    }
   },
   "source": [
    "## Referencias"
   ]
  },
  {
   "cell_type": "markdown",
   "metadata": {
    "nbgrader": {
     "grade": false,
     "grade_id": "cell-32cfb4282f725e3c1",
     "locked": true,
     "schema_version": 3,
     "solution": false,
     "task": false
    }
   },
   "source": [
    "*  J. VanderPlas (2016) *Python Data Science Handbook: Essential Tools for Working with Data* O'Reilly Media, Inc.\n",
    "*  scikit-learn developers . (2020). Demo of DBSCAN clustering algorithm. 11 Diciembre 2020, de scikit-learn <br> https://scikit-learn.org/stable/auto_examples/cluster/plot_dbscan.html#sphx-glr-auto-examples-cluster-plot-dbscan-py"
   ]
  },
  {
   "cell_type": "markdown",
   "metadata": {
    "nbgrader": {
     "grade": false,
     "grade_id": "cell-32cfb4282f725e3c2",
     "locked": true,
     "schema_version": 3,
     "solution": false,
     "task": false
    }
   },
   "source": [
    "## Créditos"
   ]
  },
  {
   "cell_type": "markdown",
   "metadata": {
    "nbgrader": {
     "grade": false,
     "grade_id": "cell-32cfb4282f725e3c3",
     "locked": true,
     "schema_version": 3,
     "solution": false,
     "task": false
    }
   },
   "source": [
    "__Autores__: Santiago Alvarez Bernal\n",
    "__Fecha última actualización__: 25/09/2025"
   ]
  }
 ],
 "metadata": {
  "celltoolbar": "Create Assignment",
  "kernelspec": {
   "display_name": "Python 3.10.3 64-bit",
   "language": "python",
   "name": "python3"
  },
  "language_info": {
   "codemirror_mode": {
    "name": "ipython",
    "version": 3
   },
   "file_extension": ".py",
   "mimetype": "text/x-python",
   "name": "python",
   "nbconvert_exporter": "python",
   "pygments_lexer": "ipython3",
   "version": "3.10.3"
  },
  "vscode": {
   "interpreter": {
    "hash": "8b8193576751691e149fe4b02bd81acb44aebb7039077c15be9d1f0082e2f63d"
   }
  }
 },
 "nbformat": 4,
 "nbformat_minor": 2
}
